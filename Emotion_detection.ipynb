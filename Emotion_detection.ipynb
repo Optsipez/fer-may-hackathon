{
  "nbformat": 4,
  "nbformat_minor": 0,
  "metadata": {
    "colab": {
      "provenance": [],
      "gpuType": "T4"
    },
    "kernelspec": {
      "name": "python3",
      "display_name": "Python 3"
    },
    "language_info": {
      "name": "python"
    },
    "accelerator": "GPU"
  },
  "cells": [
    {
      "cell_type": "code",
      "execution_count": 1,
      "metadata": {
        "colab": {
          "base_uri": "https://localhost:8080/"
        },
        "id": "DUO9Axgllu0E",
        "outputId": "bda128af-be78-41ae-a197-b07a8c7de0f5"
      },
      "outputs": [
        {
          "output_type": "stream",
          "name": "stdout",
          "text": [
            "Cloning into 'fer-may-hackathon'...\n",
            "remote: Enumerating objects: 7139, done.\u001b[K\n",
            "remote: Counting objects: 100% (26/26), done.\u001b[K\n",
            "remote: Compressing objects: 100% (20/20), done.\u001b[K\n",
            "remote: Total 7139 (delta 1), reused 22 (delta 0), pack-reused 7113\u001b[K\n",
            "Receiving objects: 100% (7139/7139), 11.10 MiB | 16.84 MiB/s, done.\n",
            "Resolving deltas: 100% (7/7), done.\n"
          ]
        }
      ],
      "source": [
        "!git clone https://github.com/Decoding-Data-Science/fer-may-hackathon.git"
      ]
    },
    {
      "cell_type": "code",
      "source": [
        "import tensorflow as tf\n",
        "from tensorflow.keras.models import Sequential\n",
        "from tensorflow.keras.layers import GlobalAveragePooling2D, Dense, BatchNormalization, Dropout\n",
        "from tensorflow.keras.applications import VGG16\n",
        "from tensorflow.keras.preprocessing.image import ImageDataGenerator\n",
        "import matplotlib.pyplot as plt"
      ],
      "metadata": {
        "id": "zIwxYlh_-RBw"
      },
      "execution_count": 8,
      "outputs": []
    },
    {
      "cell_type": "code",
      "source": [
        "# Load the VGG16 model, excluding the top (final) layers\n",
        "base_model = VGG16(weights='imagenet', include_top=False, input_shape=(48, 48, 3))\n",
        "\n",
        "# Freeze the base model\n",
        "base_model.trainable = False\n",
        "\n",
        "# Create a new model on top\n",
        "model = Sequential([\n",
        "    base_model,\n",
        "    GlobalAveragePooling2D(),\n",
        "    Dense(256, activation='relu'),\n",
        "    BatchNormalization(),\n",
        "    Dropout(0.5),\n",
        "    Dense(7, activation='softmax')\n",
        "])\n",
        "\n",
        "# Compile the model\n",
        "model.compile(optimizer='adam', loss='categorical_crossentropy', metrics=['accuracy'])\n",
        "\n",
        "# Data augmentation and preprocessing\n",
        "train_datagen = ImageDataGenerator(\n",
        "    rescale=1./255,\n",
        "    rotation_range=30,\n",
        "    width_shift_range=0.2,\n",
        "    height_shift_range=0.2,\n",
        "    shear_range=0.2,\n",
        "    zoom_range=0.2,\n",
        "    horizontal_flip=True,\n",
        "    fill_mode='nearest'\n",
        ")\n",
        "\n",
        "val_datagen = ImageDataGenerator(rescale=1./255)\n",
        "\n",
        "train_generator = train_datagen.flow_from_directory(\n",
        "    '/content/fer-may-hackathon/images/train',\n",
        "    target_size=(48, 48),\n",
        "    color_mode='rgb',  # Using 'rgb' because VGG16 expects 3-channel input\n",
        "    class_mode='categorical',\n",
        "    batch_size=64\n",
        ")\n",
        "\n",
        "validation_generator = val_datagen.flow_from_directory(\n",
        "    '/content/fer-may-hackathon/images/validation',\n",
        "    target_size=(48, 48),\n",
        "    color_mode='rgb',  # Using 'rgb' because VGG16 expects 3-channel input\n",
        "    class_mode='categorical',\n",
        "    batch_size=64\n",
        ")\n",
        "\n",
        "# Training the model\n",
        "reduce_lr = tf.keras.callbacks.ReduceLROnPlateau(monitor='val_loss', factor=0.2, patience=5, min_lr=0.001)\n",
        "early_stopping = tf.keras.callbacks.EarlyStopping(monitor='val_loss', patience=10, restore_best_weights=True)\n",
        "\n",
        "history = model.fit(\n",
        "    train_generator,\n",
        "    validation_data=validation_generator,\n",
        "    epochs=50,\n",
        "    callbacks=[reduce_lr, early_stopping]\n",
        ")\n"
      ],
      "metadata": {
        "id": "U1j8-JY5mTPW",
        "colab": {
          "base_uri": "https://localhost:8080/"
        },
        "outputId": "52040c5b-3c8b-42ba-b33f-5aba856bed62"
      },
      "execution_count": 2,
      "outputs": [
        {
          "output_type": "stream",
          "name": "stdout",
          "text": [
            "Downloading data from https://storage.googleapis.com/tensorflow/keras-applications/vgg16/vgg16_weights_tf_dim_ordering_tf_kernels_notop.h5\n",
            "58889256/58889256 [==============================] - 0s 0us/step\n",
            "Found 7178 images belonging to 7 classes.\n",
            "Found 3668 images belonging to 7 classes.\n",
            "Epoch 1/50\n",
            "113/113 [==============================] - 21s 122ms/step - loss: 2.2713 - accuracy: 0.2338 - val_loss: 1.7521 - val_accuracy: 0.3073 - lr: 0.0010\n",
            "Epoch 2/50\n",
            "113/113 [==============================] - 12s 109ms/step - loss: 1.9582 - accuracy: 0.2678 - val_loss: 1.6628 - val_accuracy: 0.3402 - lr: 0.0010\n",
            "Epoch 3/50\n",
            "113/113 [==============================] - 12s 106ms/step - loss: 1.8362 - accuracy: 0.2859 - val_loss: 1.5817 - val_accuracy: 0.3784 - lr: 0.0010\n",
            "Epoch 4/50\n",
            "113/113 [==============================] - 12s 105ms/step - loss: 1.7575 - accuracy: 0.3043 - val_loss: 1.6085 - val_accuracy: 0.3593 - lr: 0.0010\n",
            "Epoch 5/50\n",
            "113/113 [==============================] - 12s 108ms/step - loss: 1.7284 - accuracy: 0.3129 - val_loss: 1.5760 - val_accuracy: 0.3798 - lr: 0.0010\n",
            "Epoch 6/50\n",
            "113/113 [==============================] - 12s 107ms/step - loss: 1.7060 - accuracy: 0.3197 - val_loss: 1.5559 - val_accuracy: 0.3989 - lr: 0.0010\n",
            "Epoch 7/50\n",
            "113/113 [==============================] - 13s 115ms/step - loss: 1.6915 - accuracy: 0.3189 - val_loss: 1.5631 - val_accuracy: 0.3871 - lr: 0.0010\n",
            "Epoch 8/50\n",
            "113/113 [==============================] - 12s 107ms/step - loss: 1.6831 - accuracy: 0.3272 - val_loss: 1.5741 - val_accuracy: 0.3929 - lr: 0.0010\n",
            "Epoch 9/50\n",
            "113/113 [==============================] - 12s 103ms/step - loss: 1.6722 - accuracy: 0.3363 - val_loss: 1.5490 - val_accuracy: 0.4021 - lr: 0.0010\n",
            "Epoch 10/50\n",
            "113/113 [==============================] - 12s 105ms/step - loss: 1.6784 - accuracy: 0.3300 - val_loss: 1.6340 - val_accuracy: 0.3675 - lr: 0.0010\n",
            "Epoch 11/50\n",
            "113/113 [==============================] - 12s 107ms/step - loss: 1.6736 - accuracy: 0.3302 - val_loss: 1.5396 - val_accuracy: 0.4043 - lr: 0.0010\n",
            "Epoch 12/50\n",
            "113/113 [==============================] - 13s 118ms/step - loss: 1.6655 - accuracy: 0.3426 - val_loss: 1.5377 - val_accuracy: 0.3986 - lr: 0.0010\n",
            "Epoch 13/50\n",
            "113/113 [==============================] - 12s 108ms/step - loss: 1.6654 - accuracy: 0.3359 - val_loss: 1.5433 - val_accuracy: 0.3991 - lr: 0.0010\n",
            "Epoch 14/50\n",
            "113/113 [==============================] - 13s 116ms/step - loss: 1.6578 - accuracy: 0.3355 - val_loss: 1.5425 - val_accuracy: 0.3967 - lr: 0.0010\n",
            "Epoch 15/50\n",
            "113/113 [==============================] - 12s 106ms/step - loss: 1.6582 - accuracy: 0.3441 - val_loss: 1.5532 - val_accuracy: 0.3956 - lr: 0.0010\n",
            "Epoch 16/50\n",
            "113/113 [==============================] - 12s 106ms/step - loss: 1.6525 - accuracy: 0.3455 - val_loss: 1.5375 - val_accuracy: 0.3869 - lr: 0.0010\n",
            "Epoch 17/50\n",
            "113/113 [==============================] - 12s 106ms/step - loss: 1.6555 - accuracy: 0.3402 - val_loss: 1.5255 - val_accuracy: 0.3989 - lr: 0.0010\n",
            "Epoch 18/50\n",
            "113/113 [==============================] - 12s 104ms/step - loss: 1.6480 - accuracy: 0.3366 - val_loss: 1.5279 - val_accuracy: 0.3983 - lr: 0.0010\n",
            "Epoch 19/50\n",
            "113/113 [==============================] - 12s 107ms/step - loss: 1.6521 - accuracy: 0.3447 - val_loss: 1.5300 - val_accuracy: 0.4065 - lr: 0.0010\n",
            "Epoch 20/50\n",
            "113/113 [==============================] - 12s 105ms/step - loss: 1.6460 - accuracy: 0.3477 - val_loss: 1.5248 - val_accuracy: 0.4027 - lr: 0.0010\n",
            "Epoch 21/50\n",
            "113/113 [==============================] - 12s 104ms/step - loss: 1.6461 - accuracy: 0.3470 - val_loss: 1.5146 - val_accuracy: 0.4089 - lr: 0.0010\n",
            "Epoch 22/50\n",
            "113/113 [==============================] - 12s 105ms/step - loss: 1.6448 - accuracy: 0.3526 - val_loss: 1.5192 - val_accuracy: 0.4158 - lr: 0.0010\n",
            "Epoch 23/50\n",
            "113/113 [==============================] - 12s 102ms/step - loss: 1.6450 - accuracy: 0.3479 - val_loss: 1.5209 - val_accuracy: 0.4040 - lr: 0.0010\n",
            "Epoch 24/50\n",
            "113/113 [==============================] - 12s 106ms/step - loss: 1.6441 - accuracy: 0.3468 - val_loss: 1.5283 - val_accuracy: 0.4046 - lr: 0.0010\n",
            "Epoch 25/50\n",
            "113/113 [==============================] - 12s 108ms/step - loss: 1.6519 - accuracy: 0.3410 - val_loss: 1.5337 - val_accuracy: 0.4029 - lr: 0.0010\n",
            "Epoch 26/50\n",
            "113/113 [==============================] - 12s 108ms/step - loss: 1.6499 - accuracy: 0.3479 - val_loss: 1.5251 - val_accuracy: 0.4035 - lr: 0.0010\n",
            "Epoch 27/50\n",
            "113/113 [==============================] - 12s 102ms/step - loss: 1.6364 - accuracy: 0.3493 - val_loss: 1.5297 - val_accuracy: 0.4117 - lr: 0.0010\n",
            "Epoch 28/50\n",
            "113/113 [==============================] - 12s 105ms/step - loss: 1.6357 - accuracy: 0.3590 - val_loss: 1.5221 - val_accuracy: 0.4079 - lr: 0.0010\n",
            "Epoch 29/50\n",
            "113/113 [==============================] - 12s 107ms/step - loss: 1.6387 - accuracy: 0.3558 - val_loss: 1.5218 - val_accuracy: 0.4098 - lr: 0.0010\n",
            "Epoch 30/50\n",
            "113/113 [==============================] - 12s 106ms/step - loss: 1.6388 - accuracy: 0.3461 - val_loss: 1.5366 - val_accuracy: 0.4021 - lr: 0.0010\n",
            "Epoch 31/50\n",
            "113/113 [==============================] - 12s 106ms/step - loss: 1.6417 - accuracy: 0.3479 - val_loss: 1.5105 - val_accuracy: 0.4171 - lr: 0.0010\n",
            "Epoch 32/50\n",
            "113/113 [==============================] - 13s 115ms/step - loss: 1.6337 - accuracy: 0.3507 - val_loss: 1.5119 - val_accuracy: 0.4114 - lr: 0.0010\n",
            "Epoch 33/50\n",
            "113/113 [==============================] - 12s 108ms/step - loss: 1.6308 - accuracy: 0.3550 - val_loss: 1.5041 - val_accuracy: 0.4188 - lr: 0.0010\n",
            "Epoch 34/50\n",
            "113/113 [==============================] - 12s 107ms/step - loss: 1.6408 - accuracy: 0.3534 - val_loss: 1.5102 - val_accuracy: 0.4130 - lr: 0.0010\n",
            "Epoch 35/50\n",
            "113/113 [==============================] - 12s 107ms/step - loss: 1.6334 - accuracy: 0.3533 - val_loss: 1.5309 - val_accuracy: 0.4049 - lr: 0.0010\n",
            "Epoch 36/50\n",
            "113/113 [==============================] - 12s 105ms/step - loss: 1.6347 - accuracy: 0.3551 - val_loss: 1.5115 - val_accuracy: 0.4117 - lr: 0.0010\n",
            "Epoch 37/50\n",
            "113/113 [==============================] - 12s 107ms/step - loss: 1.6363 - accuracy: 0.3519 - val_loss: 1.5101 - val_accuracy: 0.4160 - lr: 0.0010\n",
            "Epoch 38/50\n",
            "113/113 [==============================] - 12s 107ms/step - loss: 1.6387 - accuracy: 0.3445 - val_loss: 1.5202 - val_accuracy: 0.4038 - lr: 0.0010\n",
            "Epoch 39/50\n",
            "113/113 [==============================] - 12s 107ms/step - loss: 1.6330 - accuracy: 0.3539 - val_loss: 1.5114 - val_accuracy: 0.4114 - lr: 0.0010\n",
            "Epoch 40/50\n",
            "113/113 [==============================] - 12s 107ms/step - loss: 1.6339 - accuracy: 0.3488 - val_loss: 1.5070 - val_accuracy: 0.4125 - lr: 0.0010\n",
            "Epoch 41/50\n",
            "113/113 [==============================] - 12s 107ms/step - loss: 1.6329 - accuracy: 0.3568 - val_loss: 1.5079 - val_accuracy: 0.4098 - lr: 0.0010\n",
            "Epoch 42/50\n",
            "113/113 [==============================] - 12s 106ms/step - loss: 1.6315 - accuracy: 0.3520 - val_loss: 1.4952 - val_accuracy: 0.4239 - lr: 0.0010\n",
            "Epoch 43/50\n",
            "113/113 [==============================] - 12s 106ms/step - loss: 1.6371 - accuracy: 0.3554 - val_loss: 1.5052 - val_accuracy: 0.4193 - lr: 0.0010\n",
            "Epoch 44/50\n",
            "113/113 [==============================] - 12s 102ms/step - loss: 1.6339 - accuracy: 0.3532 - val_loss: 1.5117 - val_accuracy: 0.4098 - lr: 0.0010\n",
            "Epoch 45/50\n",
            "113/113 [==============================] - 12s 101ms/step - loss: 1.6397 - accuracy: 0.3501 - val_loss: 1.5056 - val_accuracy: 0.4297 - lr: 0.0010\n",
            "Epoch 46/50\n",
            "113/113 [==============================] - 12s 108ms/step - loss: 1.6343 - accuracy: 0.3565 - val_loss: 1.5046 - val_accuracy: 0.4081 - lr: 0.0010\n",
            "Epoch 47/50\n",
            "113/113 [==============================] - 12s 108ms/step - loss: 1.6378 - accuracy: 0.3543 - val_loss: 1.5083 - val_accuracy: 0.4171 - lr: 0.0010\n",
            "Epoch 48/50\n",
            "113/113 [==============================] - 12s 107ms/step - loss: 1.6279 - accuracy: 0.3572 - val_loss: 1.5040 - val_accuracy: 0.4182 - lr: 0.0010\n",
            "Epoch 49/50\n",
            "113/113 [==============================] - 12s 109ms/step - loss: 1.6250 - accuracy: 0.3590 - val_loss: 1.5038 - val_accuracy: 0.4193 - lr: 0.0010\n",
            "Epoch 50/50\n",
            "113/113 [==============================] - 12s 108ms/step - loss: 1.6301 - accuracy: 0.3554 - val_loss: 1.5272 - val_accuracy: 0.4089 - lr: 0.0010\n"
          ]
        }
      ]
    },
    {
      "cell_type": "markdown",
      "source": [
        "**Unfeezing the base model and training**"
      ],
      "metadata": {
        "id": "NZmOBvXSBK5N"
      }
    },
    {
      "cell_type": "code",
      "source": [
        "# Unfreeze the base model\n",
        "base_model.trainable = True\n",
        "\n",
        "# Recompile the model with a lower learning rate for fine-tuning\n",
        "model.compile(optimizer=tf.keras.optimizers.Adam(1e-5), loss='categorical_crossentropy', metrics=['accuracy'])\n",
        "\n",
        "# Fine-tune the model\n",
        "history = model.fit(\n",
        "    train_generator,\n",
        "    validation_data=validation_generator,\n",
        "    epochs=50,\n",
        "    callbacks=[reduce_lr, early_stopping]\n",
        ")\n"
      ],
      "metadata": {
        "id": "nyl1PuzumbrZ",
        "colab": {
          "base_uri": "https://localhost:8080/"
        },
        "outputId": "ed012c95-6f80-4ca0-c480-53dfdccf053f"
      },
      "execution_count": 4,
      "outputs": [
        {
          "output_type": "stream",
          "name": "stdout",
          "text": [
            "Epoch 1/50\n",
            "113/113 [==============================] - 22s 126ms/step - loss: 1.6067 - accuracy: 0.3644 - val_loss: 1.4773 - val_accuracy: 0.4381 - lr: 1.0000e-05\n",
            "Epoch 2/50\n",
            "113/113 [==============================] - 13s 116ms/step - loss: 1.5535 - accuracy: 0.3873 - val_loss: 1.3850 - val_accuracy: 0.4804 - lr: 1.0000e-05\n",
            "Epoch 3/50\n",
            "113/113 [==============================] - 13s 117ms/step - loss: 1.4934 - accuracy: 0.4244 - val_loss: 1.3247 - val_accuracy: 0.4902 - lr: 1.0000e-05\n",
            "Epoch 4/50\n",
            "113/113 [==============================] - 13s 117ms/step - loss: 1.4564 - accuracy: 0.4416 - val_loss: 1.2575 - val_accuracy: 0.5297 - lr: 1.0000e-05\n",
            "Epoch 5/50\n",
            "113/113 [==============================] - 13s 117ms/step - loss: 1.4099 - accuracy: 0.4603 - val_loss: 1.2445 - val_accuracy: 0.5374 - lr: 1.0000e-05\n",
            "Epoch 6/50\n",
            "113/113 [==============================] - 14s 127ms/step - loss: 1.3798 - accuracy: 0.4739 - val_loss: 1.2429 - val_accuracy: 0.5240 - lr: 1.0000e-05\n",
            "Epoch 7/50\n",
            "113/113 [==============================] - 14s 120ms/step - loss: 1.3692 - accuracy: 0.4822 - val_loss: 1.2230 - val_accuracy: 0.5379 - lr: 1.0000e-05\n",
            "Epoch 8/50\n",
            "113/113 [==============================] - 13s 117ms/step - loss: 1.3409 - accuracy: 0.4976 - val_loss: 1.1521 - val_accuracy: 0.5649 - lr: 1.0000e-05\n",
            "Epoch 9/50\n",
            "113/113 [==============================] - 13s 118ms/step - loss: 1.3095 - accuracy: 0.5031 - val_loss: 1.1562 - val_accuracy: 0.5668 - lr: 1.0000e-05\n",
            "Epoch 10/50\n",
            "113/113 [==============================] - 13s 117ms/step - loss: 1.3094 - accuracy: 0.5045 - val_loss: 1.1704 - val_accuracy: 0.5570 - lr: 1.0000e-05\n",
            "Epoch 11/50\n",
            "113/113 [==============================] - 13s 117ms/step - loss: 1.2811 - accuracy: 0.5163 - val_loss: 1.1235 - val_accuracy: 0.5731 - lr: 1.0000e-05\n",
            "Epoch 12/50\n",
            "113/113 [==============================] - 13s 116ms/step - loss: 1.2633 - accuracy: 0.5240 - val_loss: 1.0889 - val_accuracy: 0.5981 - lr: 1.0000e-05\n",
            "Epoch 13/50\n",
            "113/113 [==============================] - 13s 115ms/step - loss: 1.2564 - accuracy: 0.5244 - val_loss: 1.0843 - val_accuracy: 0.5995 - lr: 1.0000e-05\n",
            "Epoch 14/50\n",
            "113/113 [==============================] - 13s 116ms/step - loss: 1.2369 - accuracy: 0.5376 - val_loss: 1.1004 - val_accuracy: 0.5851 - lr: 1.0000e-05\n",
            "Epoch 15/50\n",
            "113/113 [==============================] - 13s 114ms/step - loss: 1.2223 - accuracy: 0.5485 - val_loss: 1.0933 - val_accuracy: 0.6091 - lr: 1.0000e-05\n",
            "Epoch 16/50\n",
            "113/113 [==============================] - 13s 116ms/step - loss: 1.2045 - accuracy: 0.5552 - val_loss: 1.0529 - val_accuracy: 0.6091 - lr: 1.0000e-05\n",
            "Epoch 17/50\n",
            "113/113 [==============================] - 13s 113ms/step - loss: 1.1967 - accuracy: 0.5609 - val_loss: 1.0133 - val_accuracy: 0.6320 - lr: 1.0000e-05\n",
            "Epoch 18/50\n",
            "113/113 [==============================] - 14s 124ms/step - loss: 1.1803 - accuracy: 0.5632 - val_loss: 1.0155 - val_accuracy: 0.6273 - lr: 1.0000e-05\n",
            "Epoch 19/50\n",
            "113/113 [==============================] - 13s 113ms/step - loss: 1.1665 - accuracy: 0.5713 - val_loss: 1.0212 - val_accuracy: 0.6221 - lr: 1.0000e-05\n",
            "Epoch 20/50\n",
            "113/113 [==============================] - 13s 114ms/step - loss: 1.1432 - accuracy: 0.5762 - val_loss: 0.9834 - val_accuracy: 0.6347 - lr: 1.0000e-05\n",
            "Epoch 21/50\n",
            "113/113 [==============================] - 13s 115ms/step - loss: 1.1403 - accuracy: 0.5786 - val_loss: 1.0436 - val_accuracy: 0.6251 - lr: 1.0000e-05\n",
            "Epoch 22/50\n",
            "113/113 [==============================] - 13s 114ms/step - loss: 1.1337 - accuracy: 0.5816 - val_loss: 0.9981 - val_accuracy: 0.6393 - lr: 1.0000e-05\n",
            "Epoch 23/50\n",
            "113/113 [==============================] - 14s 125ms/step - loss: 1.1227 - accuracy: 0.5825 - val_loss: 0.9463 - val_accuracy: 0.6546 - lr: 1.0000e-05\n",
            "Epoch 24/50\n",
            "113/113 [==============================] - 14s 120ms/step - loss: 1.1073 - accuracy: 0.5915 - val_loss: 0.9469 - val_accuracy: 0.6570 - lr: 1.0000e-05\n",
            "Epoch 25/50\n",
            "113/113 [==============================] - 13s 118ms/step - loss: 1.0994 - accuracy: 0.5926 - val_loss: 1.0074 - val_accuracy: 0.6178 - lr: 1.0000e-05\n",
            "Epoch 26/50\n",
            "113/113 [==============================] - 13s 119ms/step - loss: 1.0771 - accuracy: 0.6034 - val_loss: 0.8970 - val_accuracy: 0.6824 - lr: 1.0000e-05\n",
            "Epoch 27/50\n",
            "113/113 [==============================] - 13s 113ms/step - loss: 1.0719 - accuracy: 0.6101 - val_loss: 0.9343 - val_accuracy: 0.6475 - lr: 1.0000e-05\n",
            "Epoch 28/50\n",
            "113/113 [==============================] - 13s 112ms/step - loss: 1.0601 - accuracy: 0.6105 - val_loss: 0.8699 - val_accuracy: 0.6805 - lr: 1.0000e-05\n",
            "Epoch 29/50\n",
            "113/113 [==============================] - 13s 114ms/step - loss: 1.0427 - accuracy: 0.6227 - val_loss: 0.8472 - val_accuracy: 0.7034 - lr: 1.0000e-05\n",
            "Epoch 30/50\n",
            "113/113 [==============================] - 13s 115ms/step - loss: 1.0358 - accuracy: 0.6201 - val_loss: 0.8577 - val_accuracy: 0.6897 - lr: 1.0000e-05\n",
            "Epoch 31/50\n",
            "113/113 [==============================] - 13s 115ms/step - loss: 1.0239 - accuracy: 0.6340 - val_loss: 0.8555 - val_accuracy: 0.6922 - lr: 1.0000e-05\n",
            "Epoch 32/50\n",
            "113/113 [==============================] - 13s 115ms/step - loss: 1.0144 - accuracy: 0.6372 - val_loss: 0.8359 - val_accuracy: 0.7015 - lr: 1.0000e-05\n",
            "Epoch 33/50\n",
            "113/113 [==============================] - 13s 115ms/step - loss: 1.0023 - accuracy: 0.6461 - val_loss: 0.8112 - val_accuracy: 0.7200 - lr: 1.0000e-05\n",
            "Epoch 34/50\n",
            "113/113 [==============================] - 13s 115ms/step - loss: 0.9798 - accuracy: 0.6447 - val_loss: 0.8109 - val_accuracy: 0.7216 - lr: 1.0000e-05\n",
            "Epoch 35/50\n",
            "113/113 [==============================] - 13s 113ms/step - loss: 0.9856 - accuracy: 0.6477 - val_loss: 0.8249 - val_accuracy: 0.6974 - lr: 1.0000e-05\n",
            "Epoch 36/50\n",
            "113/113 [==============================] - 13s 115ms/step - loss: 0.9740 - accuracy: 0.6495 - val_loss: 0.7919 - val_accuracy: 0.7287 - lr: 1.0000e-05\n",
            "Epoch 37/50\n",
            "113/113 [==============================] - 13s 116ms/step - loss: 0.9637 - accuracy: 0.6541 - val_loss: 0.7847 - val_accuracy: 0.7241 - lr: 1.0000e-05\n",
            "Epoch 38/50\n",
            "113/113 [==============================] - 13s 114ms/step - loss: 0.9510 - accuracy: 0.6574 - val_loss: 0.7528 - val_accuracy: 0.7347 - lr: 1.0000e-05\n",
            "Epoch 39/50\n",
            "113/113 [==============================] - 13s 115ms/step - loss: 0.9358 - accuracy: 0.6675 - val_loss: 0.8110 - val_accuracy: 0.7121 - lr: 1.0000e-05\n",
            "Epoch 40/50\n",
            "113/113 [==============================] - 13s 116ms/step - loss: 0.9165 - accuracy: 0.6757 - val_loss: 0.7371 - val_accuracy: 0.7456 - lr: 1.0000e-05\n",
            "Epoch 41/50\n",
            "113/113 [==============================] - 13s 115ms/step - loss: 0.9138 - accuracy: 0.6789 - val_loss: 0.7606 - val_accuracy: 0.7405 - lr: 1.0000e-05\n",
            "Epoch 42/50\n",
            "113/113 [==============================] - 13s 117ms/step - loss: 0.9039 - accuracy: 0.6789 - val_loss: 0.6894 - val_accuracy: 0.7604 - lr: 1.0000e-05\n",
            "Epoch 43/50\n",
            "113/113 [==============================] - 13s 114ms/step - loss: 0.8854 - accuracy: 0.6868 - val_loss: 0.7038 - val_accuracy: 0.7495 - lr: 1.0000e-05\n",
            "Epoch 44/50\n",
            "113/113 [==============================] - 13s 113ms/step - loss: 0.8751 - accuracy: 0.6938 - val_loss: 0.7054 - val_accuracy: 0.7576 - lr: 1.0000e-05\n",
            "Epoch 45/50\n",
            "113/113 [==============================] - 13s 113ms/step - loss: 0.8795 - accuracy: 0.6885 - val_loss: 0.6605 - val_accuracy: 0.7754 - lr: 1.0000e-05\n",
            "Epoch 46/50\n",
            "113/113 [==============================] - 14s 120ms/step - loss: 0.8563 - accuracy: 0.6956 - val_loss: 0.6762 - val_accuracy: 0.7715 - lr: 1.0000e-05\n",
            "Epoch 47/50\n",
            "113/113 [==============================] - 13s 116ms/step - loss: 0.8439 - accuracy: 0.7016 - val_loss: 0.6580 - val_accuracy: 0.7721 - lr: 1.0000e-05\n",
            "Epoch 48/50\n",
            "113/113 [==============================] - 13s 115ms/step - loss: 0.8332 - accuracy: 0.7034 - val_loss: 0.6683 - val_accuracy: 0.7683 - lr: 1.0000e-05\n",
            "Epoch 49/50\n",
            "113/113 [==============================] - 13s 116ms/step - loss: 0.8278 - accuracy: 0.7086 - val_loss: 0.6503 - val_accuracy: 0.7833 - lr: 1.0000e-05\n",
            "Epoch 50/50\n",
            "113/113 [==============================] - 13s 114ms/step - loss: 0.8188 - accuracy: 0.7168 - val_loss: 0.6268 - val_accuracy: 0.7920 - lr: 1.0000e-05\n"
          ]
        }
      ]
    },
    {
      "cell_type": "markdown",
      "source": [
        "**Validation Accuracy**"
      ],
      "metadata": {
        "id": "CkLEVnK2BHB1"
      }
    },
    {
      "cell_type": "code",
      "source": [
        "loss, accuracy = model.evaluate(validation_generator, steps=validation_generator.samples // 64)\n",
        "print(f'Validation Accuracy: {accuracy*100:.2f}%')"
      ],
      "metadata": {
        "colab": {
          "base_uri": "https://localhost:8080/"
        },
        "id": "kBH4Kys4aw7u",
        "outputId": "91e2f789-1988-4713-ca6f-b8b73de3ef01"
      },
      "execution_count": 5,
      "outputs": [
        {
          "output_type": "stream",
          "name": "stdout",
          "text": [
            "57/57 [==============================] - 2s 26ms/step - loss: 0.6250 - accuracy: 0.7928\n",
            "Validation Accuracy: 79.28%\n"
          ]
        }
      ]
    },
    {
      "cell_type": "markdown",
      "source": [
        "**Train Accuracy**"
      ],
      "metadata": {
        "id": "lWQBE6hqA-PU"
      }
    },
    {
      "cell_type": "code",
      "source": [
        "loss, accuracy = model.evaluate(train_generator, steps=train_generator.samples // 64)\n",
        "print(f'Train Accuracy: {accuracy*100:.2f}%')"
      ],
      "metadata": {
        "colab": {
          "base_uri": "https://localhost:8080/"
        },
        "id": "kqXOw4RVMocb",
        "outputId": "aff5bae9-83fb-4b23-ec45-ca1a13cd3c83"
      },
      "execution_count": 14,
      "outputs": [
        {
          "output_type": "stream",
          "name": "stdout",
          "text": [
            "112/112 [==============================] - 11s 101ms/step - loss: 0.7655 - accuracy: 0.7373\n",
            "Train Accuracy: 73.73%\n"
          ]
        }
      ]
    },
    {
      "cell_type": "markdown",
      "source": [
        "**Train and Validation Graph**"
      ],
      "metadata": {
        "id": "U84Oqvy1A333"
      }
    },
    {
      "cell_type": "code",
      "source": [
        "import matplotlib.pyplot as plt\n",
        "\n",
        "# Extract accuracy and loss values from the history object\n",
        "acc = history.history['accuracy']\n",
        "val_acc = history.history['val_accuracy']\n",
        "loss = history.history['loss']\n",
        "val_loss = history.history['val_loss']\n",
        "epochs = range(1, len(acc) + 1)\n",
        "\n",
        "# Plot training and validation accuracy\n",
        "plt.figure(figsize=(14, 5))\n",
        "plt.subplot(1, 2, 1)\n",
        "plt.plot(epochs, acc, 'bo-', label='Training accuracy')\n",
        "plt.plot(epochs, val_acc, 'ro-', label='Validation accuracy')\n",
        "plt.title('Training and validation accuracy')\n",
        "plt.xlabel('Epochs')\n",
        "plt.ylabel('Accuracy')\n",
        "plt.legend()\n",
        "\n",
        "# Plot training and validation loss\n",
        "plt.subplot(1, 2, 2)\n",
        "plt.plot(epochs, loss, 'bo-', label='Training loss')\n",
        "plt.plot(epochs, val_loss, 'ro-', label='Validation loss')\n",
        "plt.title('Training and validation loss')\n",
        "plt.xlabel('Epochs')\n",
        "plt.ylabel('Loss')\n",
        "plt.legend()\n",
        "\n",
        "plt.tight_layout()\n",
        "plt.show()\n"
      ],
      "metadata": {
        "colab": {
          "base_uri": "https://localhost:8080/",
          "height": 409
        },
        "id": "9LxW5Q1J98dq",
        "outputId": "8f47baf4-60aa-4d8d-bba3-0d98d4c193ca"
      },
      "execution_count": 10,
      "outputs": [
        {
          "output_type": "display_data",
          "data": {
            "text/plain": [
              "<Figure size 1400x500 with 2 Axes>"
            ],
            "image/png": "[encoded data removed]"
          },
          "metadata": {}
        }
      ]
    },
    {
      "cell_type": "markdown",
      "source": [
        "**Saving the model**"
      ],
      "metadata": {
        "id": "YgtSZG8hAvQx"
      }
    },
    {
      "cell_type": "code",
      "source": [
        "model.save('emotionmodel.h5')"
      ],
      "metadata": {
        "id": "d9x5445shlQ5"
      },
      "execution_count": 13,
      "outputs": []
    },
    {
      "cell_type": "code",
      "source": [
        "import tensorflow as tf\n",
        "\n",
        "# Load the pre-trained Keras model\n",
        "model = tf.keras.models.load_model('emotionmodel.h5')\n",
        "\n",
        "# Convert the Keras model to TensorFlow Lite\n",
        "converter = tf.lite.TFLiteConverter.from_keras_model(model)\n",
        "converter.optimizations = [tf.lite.Optimize.DEFAULT]\n",
        "tflite_model = converter.convert()\n",
        "\n",
        "# Save the TensorFlow Lite model\n",
        "with open('emotion_classification_model.tflite', 'wb') as f:\n",
        "    f.write(tflite_model)\n",
        "\n"
      ],
      "metadata": {
        "id": "TitJDpUOHZGY"
      },
      "execution_count": 17,
      "outputs": []
    }
  ]
}